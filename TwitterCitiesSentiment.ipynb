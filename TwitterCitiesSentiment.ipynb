{
 "cells": [
  {
   "cell_type": "markdown",
   "metadata": {},
   "source": [
    "*First Let us get the info from twitter*\n",
    "* Using the tweepy library to interface with twitter API"
   ]
  },
  {
   "cell_type": "code",
   "execution_count": 5,
   "metadata": {
    "collapsed": true
   },
   "outputs": [],
   "source": [
    "# Import the necessary libs from tweepy\n",
    "import tweepy\n",
    "import json\n",
    "from tweepy.streaming import StreamListener\n",
    "from tweepy import OAuthHandler\n",
    "from tweepy import Stream"
   ]
  },
  {
   "cell_type": "code",
   "execution_count": 2,
   "metadata": {
    "collapsed": true
   },
   "outputs": [],
   "source": [
    "# my personal keys to access to Twitter API\n",
    "#Variables that contains the user credentials to access Twitter API \n",
    "access_token = \"233210035-wCnsinyihbnEaa476dG0AOFtn8xh1v6R64MVDIV5\"\n",
    "access_token_secret = \"JkyW3WKXCQElfra8SXNWHC8pdB1GJm7ghcN9AHnTsZ21j\"\n",
    "consumer_key = \"nRX7YC54zuxeQcnPeSM9K2o4S\"\n",
    "consumer_secret = \"RMc4XX5QlyqS8XCSRQDNVEoYtOtHy5b9MxskiM1oVoFASpMoqX\""
   ]
  },
  {
   "cell_type": "code",
   "execution_count": 3,
   "metadata": {
    "collapsed": false
   },
   "outputs": [],
   "source": [
    "#Authentication using my keys and creating api to access various methods\n",
    "auth = OAuthHandler(consumer_key, consumer_secret)\n",
    "auth.set_access_token(access_token, access_token_secret)\n",
    "api = tweepy.API(auth)"
   ]
  },
  {
   "cell_type": "markdown",
   "metadata": {},
   "source": [
    "In Tweepy, an instance of `tweepy.Stream` establishes a streaming session and routes messages to StreamListener instance.\n",
    "The on_data method of a stream listener receives all messages and calls functions according to the message type. \n",
    "The default StreamListener can classify most common twitter messages and routes them to appropriately named methods, \n",
    "but these methods are only stubs.\n",
    "\n",
    "Therefore using the streaming api has three steps.\n",
    "* Create a class inheriting from StreamListener\n",
    "* Using that class create a Stream object\n",
    "* Connect to the Twitter API using the Stream."
   ]
  },
  {
   "cell_type": "code",
   "execution_count": null,
   "metadata": {
    "collapsed": false
   },
   "outputs": [],
   "source": [
    "#This code is for continous streaming data\n",
    "\n",
    "class MyListener(StreamListener):\n",
    "    \n",
    "    def on_data(self,data):\n",
    "        decoded = json.loads(data)\n",
    "        print '@%s: %s' % (decoded['user']['screen_name'], decoded['text'].encode('ascii', 'ignore'))\n",
    "        tweets.append(decoded['text'].encode('ascii', 'ignore'))\n",
    "        \n",
    "    def on_error(self,status_code):\n",
    "        if status_code == 420:\n",
    "            return False\n",
    "        \n",
    "myListener = MyListener()\n",
    "myStream = Stream(auth, listener=myListener)\n",
    "myStream.filter(track = ['Bangalore'], async=True)       \n",
    "        "
   ]
  },
  {
   "cell_type": "code",
   "execution_count": 23,
   "metadata": {
    "collapsed": false,
    "scrolled": false
   },
   "outputs": [],
   "source": [
    "#getting past tweets\n",
    "\n",
    "query = 'Phuket'\n",
    "max_tweets = 1000\n",
    "searchedTweets = [status._json for status in tweepy.Cursor(api.search, q = query).items(max_tweets)]\n"
   ]
  },
  {
   "cell_type": "code",
   "execution_count": 28,
   "metadata": {
    "collapsed": false
   },
   "outputs": [
    {
     "data": {
      "text/plain": [
       "u'RT @PakejAnis: DAY 1 - LIVE UPDATE TRIP PHUKET-KRABI- HATYAI 3-6 NOVEMBER 2016 \\U0001f60d\\U0001f30a\\n.\\nHave fun gaisss ! \\U0001f38a\\U0001f389\\U0001f38a https://t.co/lymeCRro9G'"
      ]
     },
     "execution_count": 28,
     "metadata": {},
     "output_type": "execute_result"
    }
   ],
   "source": [
    "searchedTweets[999]['text']"
   ]
  },
  {
   "cell_type": "code",
   "execution_count": null,
   "metadata": {
    "collapsed": true
   },
   "outputs": [],
   "source": []
  }
 ],
 "metadata": {
  "kernelspec": {
   "display_name": "Python 2",
   "language": "python",
   "name": "python2"
  },
  "language_info": {
   "codemirror_mode": {
    "name": "ipython",
    "version": 2
   },
   "file_extension": ".py",
   "mimetype": "text/x-python",
   "name": "python",
   "nbconvert_exporter": "python",
   "pygments_lexer": "ipython2",
   "version": "2.7.12"
  }
 },
 "nbformat": 4,
 "nbformat_minor": 0
}
